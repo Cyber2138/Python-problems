{
 "cells": [
  {
   "cell_type": "markdown",
   "metadata": {},
   "source": [
    "# Alternative word should be show in output"
   ]
  },
  {
   "cell_type": "code",
   "execution_count": 2,
   "metadata": {},
   "outputs": [
    {
     "data": {
      "text/plain": [
       "'apbqcr123'"
      ]
     },
     "execution_count": 2,
     "metadata": {},
     "output_type": "execute_result"
    }
   ],
   "source": [
    "class Solution:\n",
    "    def mergeAlternately(self, word1: str, word2: str) -> str:\n",
    "        result = []\n",
    "        max_length = max(len(word1), len(word2))\n",
    "\n",
    "        for i in range(max_length):\n",
    "          if i < len(word1):\n",
    "            result.append(word1[i])\n",
    "          if i < len(word2):\n",
    "            result.append(word2[i])\n",
    "\n",
    "\n",
    "        return \"\".join(result)\n",
    "\n",
    "x = Solution()\n",
    "x.mergeAlternately('abc','pqr123')"
   ]
  },
  {
   "cell_type": "markdown",
   "metadata": {},
   "source": [
    "# Removing the the second set from first set"
   ]
  },
  {
   "cell_type": "code",
   "execution_count": 1,
   "metadata": {},
   "outputs": [
    {
     "name": "stdout",
     "output_type": "stream",
     "text": [
      "AB\n",
      "ABC\n",
      "\n"
     ]
    }
   ],
   "source": [
    "from math import gcd\n",
    "\n",
    "class Solution:\n",
    "    def gcdOfStrings(self, str1: str, str2: str) -> str:\n",
    "        # Check if concatenations of the strings are equal\n",
    "        if str1 + str2 != str2 + str1:\n",
    "            return \"\"\n",
    "        \n",
    "        # Compute the GCD of the lengths of the strings\n",
    "        gcd_length = gcd(len(str1), len(str2))\n",
    "        \n",
    "        # Return the substring of str1 up to the GCD length\n",
    "        return str1[:gcd_length]\n",
    "\n",
    "# Example usage\n",
    "x = Solution()\n",
    "print(x.gcdOfStrings(\"ABABAB\", \"ABAB\"))  # Output: \"AB\"\n",
    "print(x.gcdOfStrings(\"ABCABC\", \"ABC\"))  # Output: \"ABC\"\n",
    "print(x.gcdOfStrings(\"LEET\", \"CODE\"))   # Output: \"\"\n"
   ]
  },
  {
   "cell_type": "code",
   "execution_count": 17,
   "metadata": {},
   "outputs": [
    {
     "data": {
      "text/plain": [
       "[True, False, False, False, False]"
      ]
     },
     "execution_count": 17,
     "metadata": {},
     "output_type": "execute_result"
    }
   ],
   "source": [
    "from typing import List\n",
    "class Solution:\n",
    "    def kidsWithCandies(self, candies: List[int], extraCandies: int) -> List[bool]:\n",
    "        result = []\n",
    "        max_value = max(candies)\n",
    "        for i in range(0,len(candies)):\n",
    "            if candies[i] + extraCandies >= max_value:\n",
    "                x = candies[i] + extraCandies\n",
    "                result.append(True)\n",
    "            else:\n",
    "                result.append(False)\n",
    "        return result\n",
    "                \n",
    "\n",
    "\n",
    "x = Solution()\n",
    "x.kidsWithCandies([4,2,1,1,2],1)\n"
   ]
  }
 ],
 "metadata": {
  "kernelspec": {
   "display_name": "Python (myenv)",
   "language": "python",
   "name": "myenv"
  },
  "language_info": {
   "codemirror_mode": {
    "name": "ipython",
    "version": 3
   },
   "file_extension": ".py",
   "mimetype": "text/x-python",
   "name": "python",
   "nbconvert_exporter": "python",
   "pygments_lexer": "ipython3",
   "version": "3.12.4"
  }
 },
 "nbformat": 4,
 "nbformat_minor": 2
}
